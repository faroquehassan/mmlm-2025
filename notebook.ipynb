{
 "cells": [
  {
   "cell_type": "code",
<<<<<<< Updated upstream
   "execution_count": 18,
=======
   "execution_count": 1,
>>>>>>> Stashed changes
   "metadata": {},
   "outputs": [],
   "source": [
    "import pandas as pd\n",
    "import numpy as np\n",
    "import os\n",
    "from pathlib import Path\n"
   ]
  },
  {
   "cell_type": "code",
   "execution_count": 19,
   "metadata": {},
   "outputs": [],
   "source": [
    "current_dir = Path().resolve()\n",
    "\n",
    "data_dir = current_dir / 'data'\n",
    "os.chdir(data_dir)\n"
   ]
  },
  {
   "cell_type": "code",
   "execution_count": 20,
   "metadata": {},
   "outputs": [
    {
     "data": {
      "text/plain": [
       "['Cities.csv',\n",
       " 'Conferences.csv',\n",
       " 'MConferenceTourneyGames.csv',\n",
       " 'MGameCities.csv',\n",
       " 'MMasseyOrdinals.csv',\n",
       " 'MNCAATourneyCompactResults.csv',\n",
       " 'MNCAATourneyDetailedResults.csv',\n",
       " 'MNCAATourneySeedRoundSlots.csv',\n",
       " 'MNCAATourneySeeds.csv',\n",
       " 'MNCAATourneySlots.csv',\n",
       " 'MRegularSeasonCompactResults.csv',\n",
       " 'MRegularSeasonDetailedResults.csv',\n",
       " 'MSeasons.csv',\n",
       " 'MSecondaryTourneyCompactResults.csv',\n",
       " 'MSecondaryTourneyTeams.csv',\n",
       " 'MTeamCoaches.csv',\n",
       " 'MTeamConferences.csv',\n",
       " 'MTeams.csv',\n",
       " 'MTeamSpellings.csv',\n",
       " 'SampleSubmissionStage1.csv',\n",
       " 'SeedBenchmarkStage1.csv',\n",
       " 'WConferenceTourneyGames.csv',\n",
       " 'WGameCities.csv',\n",
       " 'WNCAATourneyCompactResults.csv',\n",
       " 'WNCAATourneyDetailedResults.csv',\n",
       " 'WNCAATourneySeeds.csv',\n",
       " 'WNCAATourneySlots.csv',\n",
       " 'WRegularSeasonCompactResults.csv',\n",
       " 'WRegularSeasonDetailedResults.csv',\n",
       " 'WSeasons.csv',\n",
       " 'WSecondaryTourneyCompactResults.csv',\n",
       " 'WSecondaryTourneyTeams.csv',\n",
       " 'WTeamConferences.csv',\n",
       " 'WTeams.csv',\n",
       " 'WTeamSpellings.csv']"
      ]
     },
     "execution_count": 20,
     "metadata": {},
     "output_type": "execute_result"
    }
   ],
   "source": [
    "os.listdir()"
   ]
  },
  {
   "cell_type": "code",
   "execution_count": null,
   "metadata": {},
   "outputs": [],
   "source": []
  }
 ],
 "metadata": {
  "kernelspec": {
   "display_name": "base",
   "language": "python",
   "name": "python3"
  },
  "language_info": {
   "codemirror_mode": {
    "name": "ipython",
    "version": 3
   },
   "file_extension": ".py",
   "mimetype": "text/x-python",
   "name": "python",
   "nbconvert_exporter": "python",
   "pygments_lexer": "ipython3",
   "version": "3.12.4"
  }
 },
 "nbformat": 4,
 "nbformat_minor": 2
}
