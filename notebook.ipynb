{
 "cells": [
  {
   "cell_type": "code",
   "execution_count": 1,
   "metadata": {},
   "outputs": [],
   "source": [
    "import pandas as pd\n",
    "import numpy as np\n",
    "import os\n",
    "from pathlib import Path"
   ]
  },
  {
   "cell_type": "code",
   "execution_count": 2,
   "metadata": {},
   "outputs": [],
   "source": [
    "current_dir = Path().resolve()\n",
    "\n",
    "data_dir = current_dir / 'data'\n",
    "os.chdir(data_dir)\n"
   ]
  },
  {
   "cell_type": "code",
   "execution_count": 3,
   "metadata": {},
   "outputs": [
    {
     "data": {
      "text/plain": [
       "['Cities.csv',\n",
       " 'Conferences.csv',\n",
       " 'MConferenceTourneyGames.csv',\n",
       " 'MGameCities.csv',\n",
       " 'MMasseyOrdinals.csv',\n",
       " 'MNCAATourneyCompactResults.csv',\n",
       " 'MNCAATourneyDetailedResults.csv',\n",
       " 'MNCAATourneySeedRoundSlots.csv',\n",
       " 'MNCAATourneySeeds.csv',\n",
       " 'MNCAATourneySlots.csv',\n",
       " 'MRegularSeasonCompactResults.csv',\n",
       " 'MRegularSeasonDetailedResults.csv',\n",
       " 'MSeasons.csv',\n",
       " 'MSecondaryTourneyCompactResults.csv',\n",
       " 'MSecondaryTourneyTeams.csv',\n",
       " 'MTeamCoaches.csv',\n",
       " 'MTeamConferences.csv',\n",
       " 'MTeams.csv',\n",
       " 'MTeamSpellings.csv',\n",
       " 'SampleSubmissionStage1.csv',\n",
       " 'SeedBenchmarkStage1.csv',\n",
       " 'WConferenceTourneyGames.csv',\n",
       " 'WGameCities.csv',\n",
       " 'WNCAATourneyCompactResults.csv',\n",
       " 'WNCAATourneyDetailedResults.csv',\n",
       " 'WNCAATourneySeeds.csv',\n",
       " 'WNCAATourneySlots.csv',\n",
       " 'WRegularSeasonCompactResults.csv',\n",
       " 'WRegularSeasonDetailedResults.csv',\n",
       " 'WSeasons.csv',\n",
       " 'WSecondaryTourneyCompactResults.csv',\n",
       " 'WSecondaryTourneyTeams.csv',\n",
       " 'WTeamConferences.csv',\n",
       " 'WTeams.csv',\n",
       " 'WTeamSpellings.csv']"
      ]
     },
     "execution_count": 3,
     "metadata": {},
     "output_type": "execute_result"
    }
   ],
   "source": [
    "os.listdir()"
   ]
  },
  {
   "cell_type": "markdown",
   "metadata": {},
   "source": [
    "# EDA"
   ]
  },
  {
   "cell_type": "code",
   "execution_count": 4,
   "metadata": {},
   "outputs": [
    {
     "name": "stdout",
     "output_type": "stream",
     "text": [
      "Loaded Cities.csv into DataFrame Cities\n",
      "Loaded Conferences.csv into DataFrame Conferences\n",
      "Loaded MConferenceTourneyGames.csv into DataFrame MConferenceTourneyGames\n",
      "Loaded MGameCities.csv into DataFrame MGameCities\n",
      "Loaded MMasseyOrdinals.csv into DataFrame MMasseyOrdinals\n",
      "Loaded MNCAATourneyCompactResults.csv into DataFrame MNCAATourneyCompactResults\n",
      "Loaded MNCAATourneyDetailedResults.csv into DataFrame MNCAATourneyDetailedResults\n",
      "Loaded MNCAATourneySeedRoundSlots.csv into DataFrame MNCAATourneySeedRoundSlots\n",
      "Loaded MNCAATourneySeeds.csv into DataFrame MNCAATourneySeeds\n",
      "Loaded MNCAATourneySlots.csv into DataFrame MNCAATourneySlots\n",
      "Loaded MRegularSeasonCompactResults.csv into DataFrame MRegularSeasonCompactResults\n",
      "Loaded MRegularSeasonDetailedResults.csv into DataFrame MRegularSeasonDetailedResults\n",
      "Loaded MSeasons.csv into DataFrame MSeasons\n",
      "Loaded MSecondaryTourneyCompactResults.csv into DataFrame MSecondaryTourneyCompactResults\n",
      "Loaded MSecondaryTourneyTeams.csv into DataFrame MSecondaryTourneyTeams\n",
      "Loaded MTeamCoaches.csv into DataFrame MTeamCoaches\n",
      "Loaded MTeamConferences.csv into DataFrame MTeamConferences\n",
      "Loaded MTeams.csv into DataFrame MTeams\n",
      "Loaded MTeamSpellings.csv into DataFrame MTeamSpellings\n",
      "Loaded SampleSubmissionStage1.csv into DataFrame SampleSubmissionStage1\n",
      "Loaded SeedBenchmarkStage1.csv into DataFrame SeedBenchmarkStage1\n",
      "Loaded WConferenceTourneyGames.csv into DataFrame WConferenceTourneyGames\n",
      "Loaded WGameCities.csv into DataFrame WGameCities\n",
      "Loaded WNCAATourneyCompactResults.csv into DataFrame WNCAATourneyCompactResults\n",
      "Loaded WNCAATourneyDetailedResults.csv into DataFrame WNCAATourneyDetailedResults\n",
      "Loaded WNCAATourneySeeds.csv into DataFrame WNCAATourneySeeds\n",
      "Loaded WNCAATourneySlots.csv into DataFrame WNCAATourneySlots\n",
      "Loaded WRegularSeasonCompactResults.csv into DataFrame WRegularSeasonCompactResults\n",
      "Loaded WRegularSeasonDetailedResults.csv into DataFrame WRegularSeasonDetailedResults\n",
      "Loaded WSeasons.csv into DataFrame WSeasons\n",
      "Loaded WSecondaryTourneyCompactResults.csv into DataFrame WSecondaryTourneyCompactResults\n",
      "Loaded WSecondaryTourneyTeams.csv into DataFrame WSecondaryTourneyTeams\n",
      "Loaded WTeamConferences.csv into DataFrame WTeamConferences\n",
      "Loaded WTeams.csv into DataFrame WTeams\n",
      "Loaded WTeamSpellings.csv into DataFrame WTeamSpellings\n"
     ]
    }
   ],
   "source": [
    "files = os.listdir(data_dir)\n",
    "dataframes = {}\n",
    "\n",
    "for file in files:\n",
    "    if file.endswith('.csv'):\n",
    "        file_path = os.path.join(data_dir, file)\n",
    "        df_name = os.path.splitext(file)[0]\n",
    "        try:\n",
    "            dataframes[df_name] = pd.read_csv(file_path, encoding='utf-8')\n",
    "        except UnicodeDecodeError:\n",
    "            # Try a different encoding if utf-8 fails\n",
    "            dataframes[df_name] = pd.read_csv(file_path, encoding='latin1')\n",
    "            \n",
    "        print(f'Loaded {file} into DataFrame {df_name}')\n"
   ]
  },
  {
   "cell_type": "code",
   "execution_count": 5,
   "metadata": {},
   "outputs": [
    {
     "name": "stdout",
     "output_type": "stream",
     "text": [
      "DataFrames available: \n",
      "Cities\n",
      "Conferences\n",
      "MConferenceTourneyGames\n",
      "MGameCities\n",
      "MMasseyOrdinals\n",
      "MNCAATourneyCompactResults\n",
      "MNCAATourneyDetailedResults\n",
      "MNCAATourneySeedRoundSlots\n",
      "MNCAATourneySeeds\n",
      "MNCAATourneySlots\n",
      "MRegularSeasonCompactResults\n",
      "MRegularSeasonDetailedResults\n",
      "MSeasons\n",
      "MSecondaryTourneyCompactResults\n",
      "MSecondaryTourneyTeams\n",
      "MTeamCoaches\n",
      "MTeamConferences\n",
      "MTeams\n",
      "MTeamSpellings\n",
      "SampleSubmissionStage1\n",
      "SeedBenchmarkStage1\n",
      "WConferenceTourneyGames\n",
      "WGameCities\n",
      "WNCAATourneyCompactResults\n",
      "WNCAATourneyDetailedResults\n",
      "WNCAATourneySeeds\n",
      "WNCAATourneySlots\n",
      "WRegularSeasonCompactResults\n",
      "WRegularSeasonDetailedResults\n",
      "WSeasons\n",
      "WSecondaryTourneyCompactResults\n",
      "WSecondaryTourneyTeams\n",
      "WTeamConferences\n",
      "WTeams\n",
      "WTeamSpellings\n"
     ]
    }
   ],
   "source": [
    "print('DataFrames available: ')\n",
    "for df_name in dataframes.keys():\n",
    "    print(df_name)"
   ]
  },
  {
   "cell_type": "code",
   "execution_count": null,
   "metadata": {},
   "outputs": [],
   "source": []
  }
 ],
 "metadata": {
  "kernelspec": {
   "display_name": "base",
   "language": "python",
   "name": "python3"
  },
  "language_info": {
   "codemirror_mode": {
    "name": "ipython",
    "version": 3
   },
   "file_extension": ".py",
   "mimetype": "text/x-python",
   "name": "python",
   "nbconvert_exporter": "python",
   "pygments_lexer": "ipython3",
   "version": "3.12.4"
  }
 },
 "nbformat": 4,
 "nbformat_minor": 2
}
